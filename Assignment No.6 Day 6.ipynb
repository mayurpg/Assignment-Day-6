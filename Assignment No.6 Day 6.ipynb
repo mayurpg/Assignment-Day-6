{
 "cells": [
  {
   "cell_type": "markdown",
   "metadata": {},
   "source": [
    "# Assignment No.6 Day 6 "
   ]
  },
  {
   "cell_type": "code",
   "execution_count": 4,
   "metadata": {},
   "outputs": [
    {
     "name": "stdout",
     "output_type": "stream",
     "text": [
      "Original key list is : ['a', 'b', 'c', 'd', 'e']\n",
      "Original value list is : [1, 2, 3, 4, 5, 7, 8]\n",
      "Resultant dictionary is : {'a': 1, 'b': 2, 'c': 3, 'd': 4, 'e': 5}\n"
     ]
    }
   ],
   "source": [
    "# # conversion of lists to dictionary \n",
    "# using naive method \n",
    "\n",
    "test_keys = [\"a\",\"b\",\"c\",\"d\",\"e\"] \n",
    "test_values = [1,2,3,4,5,7,8] \n",
    "\n",
    "print (\"Original key list is : \" + str(test_keys)) \n",
    "print (\"Original value list is : \" + str(test_values)) \n",
    "\n",
    "# using naive method \n",
    "# to convert lists to dictionary \n",
    "res = {} \n",
    "for key in test_keys: \n",
    "\tfor value in test_values: \n",
    "\t\tres[key] = value \n",
    "\t\ttest_values.remove(value) \n",
    "\t\tbreak\n",
    "\n",
    "# Printing resultant dictionary \n",
    "print (\"Resultant dictionary is : \" + str(res)) "
   ]
  },
  {
   "cell_type": "code",
   "execution_count": null,
   "metadata": {},
   "outputs": [],
   "source": []
  }
 ],
 "metadata": {
  "kernelspec": {
   "display_name": "Python 3",
   "language": "python",
   "name": "python3"
  },
  "language_info": {
   "codemirror_mode": {
    "name": "ipython",
    "version": 3
   },
   "file_extension": ".py",
   "mimetype": "text/x-python",
   "name": "python",
   "nbconvert_exporter": "python",
   "pygments_lexer": "ipython3",
   "version": "3.7.6"
  }
 },
 "nbformat": 4,
 "nbformat_minor": 4
}
